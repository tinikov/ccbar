{
 "cells": [
  {
   "cell_type": "markdown",
   "metadata": {},
   "source": [
    "# Script for plotting 4-point correlators"
   ]
  },
  {
   "cell_type": "markdown",
   "metadata": {},
   "source": [
    "## Initialize"
   ]
  },
  {
   "cell_type": "code",
   "execution_count": 8,
   "metadata": {},
   "outputs": [],
   "source": [
    "import os\n",
    "import numpy as np\n",
    "import matplotlib.pyplot as plt\n",
    "from iminuit import Minuit\n",
    "from iminuit.cost import LeastSquares\n",
    "import scienceplots\n",
    "\n",
    "a = 0.090713\n",
    "tSites = 64\n",
    "C = 2.0 * np.sqrt(np.pi)\n",
    "\n",
    "gaugePath = [\"c4pt\", \"l4pt\"]\n",
    "channel = [\"ps\", \"v\"]\n",
    "type = [\"pl\", \"nn\", \"l2\"]\n",
    "tStrList = [str(it).rjust(2, \"0\") for it in range(int(tSites / 2))]\n",
    "\n",
    "codeRoot = \"/Users/zhangtc/ccbar\""
   ]
  },
  {
   "cell_type": "markdown",
   "metadata": {},
   "source": [
    "## Read data\n",
    "\n",
    "All 4pt correlators are read as: `data[igauge][ichan][itype][it]`"
   ]
  },
  {
   "cell_type": "code",
   "execution_count": 9,
   "metadata": {},
   "outputs": [],
   "source": [
    "# data[igauge][ichan][itype][it]\n",
    "data = [[[[], [], []], [[], [], []]], [[[], [], []], [[], [], []]]]\n",
    "\n",
    "for igauge in range(2):\n",
    "    for ichan in range(2):\n",
    "        for itype in range(3):\n",
    "            for it in range(32):\n",
    "                data[igauge][ichan][itype].append(\n",
    "                    np.loadtxt(\n",
    "                        \"{codeRoot}/result/{gaugePath}/corr/{type}.{channel}.{T}.bin.txt\".format(\n",
    "                            codeRoot=codeRoot,\n",
    "                            gaugePath=gaugePath[igauge],\n",
    "                            type=type[itype],\n",
    "                            channel=channel[ichan],\n",
    "                            T=tStrList[it],\n",
    "                        )\n",
    "                    )\n",
    "                )"
   ]
  },
  {
   "cell_type": "markdown",
   "metadata": {},
   "source": [
    "## Comparison between gauges"
   ]
  },
  {
   "cell_type": "code",
   "execution_count": null,
   "metadata": {},
   "outputs": [],
   "source": []
  }
 ],
 "metadata": {
  "kernelspec": {
   "display_name": "py-3.12-venv",
   "language": "python",
   "name": "python3"
  },
  "language_info": {
   "codemirror_mode": {
    "name": "ipython",
    "version": 3
   },
   "file_extension": ".py",
   "mimetype": "text/x-python",
   "name": "python",
   "nbconvert_exporter": "python",
   "pygments_lexer": "ipython3",
   "version": "3.12.2"
  }
 },
 "nbformat": 4,
 "nbformat_minor": 2
}
